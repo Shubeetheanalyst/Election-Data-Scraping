{
 "cells": [
  {
   "cell_type": "code",
   "execution_count": null,
   "id": "bd79d15d",
   "metadata": {},
   "outputs": [],
   "source": [
    "import pandas as pd\n",
    "import requests\n",
    "import os\n",
    "\n",
    "##################\n",
    "# Load Excel file into a pandas DataFrame\n",
    "df = pd.read_excel(r\"C:\\Users\\PC\\OneDrive\\all_doc_links(1163).xlsx\")\n",
    "####################\n",
    "\n",
    "# Specify the column name that contains the links to the files\n",
    "column_name = 'document'\n",
    "\n",
    "# Specify the directory where you want to save the downloaded files\n",
    "download_directory = './downloads/'\n",
    "\n",
    "# Loop through each row in the DataFrame and download the file\n",
    "for index, row in df.iterrows():\n",
    "    # Get the file URL from the specified column\n",
    "    file_url = row[column_name]\n",
    "    \n",
    "    # Determine the file name and extension\n",
    "    file_name = file_url.split('/')[-1]\n",
    "    file_extension = file_name.split('.')[-1]\n",
    "    \n",
    "    # Only download files with PDF, PNG, or JPG extension\n",
    "    if file_extension in ['pdf', 'png', 'jpg']:\n",
    "        # Send a GET request to the file URL\n",
    "        response = requests.get(file_url)\n",
    "        \n",
    "        # Create the download directory if it doesn't exist\n",
    "        if not os.path.exists(download_directory):\n",
    "            os.makedirs(download_directory)\n",
    "        \n",
    "        # Write the downloaded file to the specified directory\n",
    "        with open(download_directory + file_name, 'wb') as f:\n",
    "            f.write(response.content)\n",
    "            \n",
    "        print(f'Downloaded {file_name}')\n"
   ]
  }
 ],
 "metadata": {
  "kernelspec": {
   "display_name": "Python 3 (ipykernel)",
   "language": "python",
   "name": "python3"
  },
  "language_info": {
   "codemirror_mode": {
    "name": "ipython",
    "version": 3
   },
   "file_extension": ".py",
   "mimetype": "text/x-python",
   "name": "python",
   "nbconvert_exporter": "python",
   "pygments_lexer": "ipython3",
   "version": "3.9.13"
  }
 },
 "nbformat": 4,
 "nbformat_minor": 5
}
