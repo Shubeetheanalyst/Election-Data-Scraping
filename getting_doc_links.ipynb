{
 "cells": [
  {
   "cell_type": "code",
   "execution_count": null,
   "id": "3deee3bc",
   "metadata": {},
   "outputs": [],
   "source": [
    "# !pip install requests\n",
    "# !pip install BeautifulSoup\n",
    "# !pip install jason\n",
    "# !pip install pandas"
   ]
  },
  {
   "cell_type": "code",
   "execution_count": null,
   "id": "b424ed6f",
   "metadata": {},
   "outputs": [],
   "source": [
    "import requests as rq\n",
    "from bs4 import BeautifulSoup as bs\n",
    "import pandas as pd\n",
    "import json"
   ]
  },
  {
   "cell_type": "code",
   "execution_count": null,
   "id": "6610b1a0",
   "metadata": {},
   "outputs": [],
   "source": [
    "df = pd.read_excel(r\"C:\\Users\\PC\\OneDrive\\main_link.xlsx\")\n",
    "pdf_page_urls_list = df['pdf_page_url'].to_list()\n",
    "pdf_urls = []\n",
    "pdf_code = []\n",
    "c_t = 0\n",
    "for inp , pdf_url_i in enumerate(pdf_page_urls_list):\n",
    "    print(inp)\n",
    "    electionsId = pdf_url_i.split(\"elections/\")[1].split(\"/context/pus/\")[0]\n",
    "    wardId      = pdf_url_i.split(\"elections/\")[1].split(\"/context/pus/\")[1].split(\"/ward/\")[-1]\n",
    "    api_url = f'https://irev-v2.herokuapp.com/api/v1/elections/{electionsId}/pus?ward={wardId}'\n",
    "    url_status_Pd   = rq.get(api_url)\n",
    "    finl            = json.loads(bs(url_status_Pd.content,'html.parser').text)['data']\n",
    "    for inde , pp in enumerate(finl):\n",
    "        document_link = ''\n",
    "        code_ = f'e0-{inde}'\n",
    "        if 'document' in pp.keys():\n",
    "            if pp['document']:\n",
    "                document_link = pp['document']['url']\n",
    "                pdf_urls.append(document_link)\n",
    "            code_ = pp['code']\n",
    "            pdf_code.append(code_)\n",
    "        c_t = c_t+1"
   ]
  },
  {
   "cell_type": "code",
   "execution_count": null,
   "id": "3eee5d26",
   "metadata": {},
   "outputs": [],
   "source": [
    "for inp , pdf_url_i in enumerate(pdf_page_urls_list):\n",
    "    print(inp)\n",
    "    if inp > 191:\n",
    "        electionsId = pdf_url_i.split(\"elections/\")[1].split(\"/context/pus/\")[0]\n",
    "        wardId      = pdf_url_i.split(\"elections/\")[1].split(\"/context/pus/\")[1].split(\"/ward/\")[-1]\n",
    "        api_url = f'https://irev-v2.herokuapp.com/api/v1/elections/{electionsId}/pus?ward={wardId}'\n",
    "        url_status_Pd   = rq.get(api_url)\n",
    "        finl            = json.loads(bs(url_status_Pd.content,'html.parser').text)['data']\n",
    "        for inde , pp in enumerate(finl):\n",
    "            document_link = ''\n",
    "            code_ = f'e0-{inde}'\n",
    "            if 'document' in pp.keys():\n",
    "                if pp['document']:\n",
    "                    document_link = pp['document']['url']\n",
    "                    pdf_urls.append(document_link)\n",
    "                code_ = pp['code']\n",
    "                pdf_code.append(code_)\n",
    "            c_t = c_t+1"
   ]
  },
  {
   "cell_type": "code",
   "execution_count": null,
   "id": "596a98c6",
   "metadata": {},
   "outputs": [],
   "source": [
    "df_w = pd.DataFrame({'Code':pdf_code, \"document\":  pdf_urls})\n",
    "df_w.to_excel(r\"all_doc_links(1284).xlsx\", index=False)"
   ]
  },
  {
   "cell_type": "code",
   "execution_count": null,
   "id": "f9e0e307",
   "metadata": {},
   "outputs": [],
   "source": []
  }
 ],
 "metadata": {
  "kernelspec": {
   "display_name": "Python 3 (ipykernel)",
   "language": "python",
   "name": "python3"
  },
  "language_info": {
   "codemirror_mode": {
    "name": "ipython",
    "version": 3
   },
   "file_extension": ".py",
   "mimetype": "text/x-python",
   "name": "python",
   "nbconvert_exporter": "python",
   "pygments_lexer": "ipython3",
   "version": "3.9.13"
  }
 },
 "nbformat": 4,
 "nbformat_minor": 5
}
